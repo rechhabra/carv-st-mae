{
  "nbformat": 4,
  "nbformat_minor": 0,
  "metadata": {
    "colab": {
      "provenance": []
    },
    "kernelspec": {
      "name": "python3",
      "display_name": "Python 3"
    },
    "language_info": {
      "name": "python"
    }
  },
  "cells": [
    {
      "cell_type": "markdown",
      "source": [
        "## Imports"
      ],
      "metadata": {
        "id": "LyHjuI4RaEOv"
      }
    },
    {
      "cell_type": "code",
      "execution_count": null,
      "metadata": {
        "id": "Qg5p-7KdYdEi"
      },
      "outputs": [],
      "source": [
        "# !pip install scikit-video\n",
        "import cv2\n",
        "import numpy as np\n",
        "import pandas as pd\n",
        "from google.colab.patches import cv2_imshow\n",
        "import skvideo.io\n",
        "import skvideo.measure"
      ]
    },
    {
      "cell_type": "markdown",
      "source": [
        "## Generate Video Outputs\n",
        "Our method: both false\n",
        "\n",
        "Naive downsampling (Every Nth frames): downsample true\n",
        "\n",
        "Every Nth frames with random offset: both true"
      ],
      "metadata": {
        "id": "TVq-ydAGaMxr"
      }
    },
    {
      "cell_type": "code",
      "source": [
        "simulate_downsampling = False\n",
        "simulate_randomchunkselection = False\n",
        "\n",
        "mse_csv_filepath = \"/content/mark_back_and_forth_square_mse_sum_500_0.98.csv\"\n",
        "original_video_filepath = \"/content/mark_rolling_on_chair.mp4\"\n",
        "output_file_name = \"output.mp4\"\n",
        "output_fps = 30"
      ],
      "metadata": {
        "id": "Ab_CQi46YeOC"
      },
      "execution_count": null,
      "outputs": []
    },
    {
      "cell_type": "code",
      "source": [
        "mse = np.array(pd.read_csv(mse_csv_filepath))[:,1]\n",
        "mse = mse.reshape(8,14,14)\n",
        "mse = mse - mse.min()\n",
        "mse = mse / mse.mean()\n",
        "mse = mse / 5\n",
        "\n",
        "if simulate_downsampling:\n",
        "  regdown = np.zeros(mse.shape)\n",
        "  regdown.fill(mse.mean())\n",
        "  mse = regdown\n",
        "\n",
        "# Create a VideoCapture object and read from input file\n",
        "# If the input is the camera, pass 0 instead of the video file name\n",
        "cap = cv2.VideoCapture(original_video_filepath)\n",
        "\n",
        "# Check if camera opened successfully\n",
        "if (cap.isOpened()== False): \n",
        "  print(\"Error opening video stream or file\")\n",
        " \n",
        "frame_width = int(cap.get(3))\n",
        "frame_height = int(cap.get(4))\n",
        "length = int(cap.get(cv2.CAP_PROP_FRAME_COUNT))\n",
        "print(frame_width, frame_height, length)\n",
        "\n",
        "prev_frame = np.zeros((frame_height, frame_width, 3), dtype=np.uint8)\n",
        "prev_increment = np.ones((14,14))\n",
        "if (simulate_randomchunkselection):\n",
        "  prev_increment = np.random.rand(14,14)\n",
        "  prev_increment += 1\n",
        " \n",
        "out = cv2.VideoWriter('output_file_name',cv2.VideoWriter_fourcc(*'mp4v'), output_fps, (frame_width, frame_height))\n",
        "# Read until video is completed\n",
        "count = 0\n",
        "while(cap.isOpened()):\n",
        "  # Capture frame-by-frame\n",
        "  ret, frame = cap.read()\n",
        "  if ret == True:\n",
        "    pass\n",
        "\n",
        "    next_frame = np.copy(prev_frame)\n",
        "    losses = mse[8 * count//length, :, :]\n",
        "    prev_increment += losses\n",
        "\n",
        "    for i in range(14):\n",
        "      left = i * frame_width // 14\n",
        "      right = (i+1) * frame_width // 14\n",
        "      for j in range(14):\n",
        "        top = j * frame_height // 14\n",
        "        bottom = (j+1) * frame_height // 14\n",
        "\n",
        "        if prev_increment[i][j] >= 1:\n",
        "          prev_increment[i][j] += -1\n",
        "          next_frame[left:right, top:bottom] = frame[left:right, top:bottom]\n",
        "          prev_frame[left:right, top:bottom] = frame[left:right, top:bottom] \n",
        "      \n",
        "    out.write(next_frame)\n",
        "\n",
        "    count += 1\n",
        "  # Break the loop\n",
        "  else: \n",
        "    break\n",
        " \n",
        "# When everything done, release the video capture object\n",
        "cap.release()\n",
        "out.release()\n",
        " \n",
        "# Closes all the frames\n",
        "cv2.destroyAllWindows()"
      ],
      "metadata": {
        "id": "XILDmsLkiiSF"
      },
      "execution_count": null,
      "outputs": []
    },
    {
      "cell_type": "markdown",
      "source": [
        "## Video Metrics\n",
        "put paths below"
      ],
      "metadata": {
        "id": "5d14nIcJaswA"
      }
    },
    {
      "cell_type": "code",
      "source": [
        "original  = skvideo.io.vread(\"/content/mark_rolling_on_chair.mp4\")\n",
        "ours      = skvideo.io.vread(\"/content/mark_out5.mp4\")\n",
        "naive     = skvideo.io.vread(\"/content/mark_out5downsample.mp4\")\n",
        "random    = skvideo.io.vread(\"/content/mark_out5random.mp4\")\n",
        "\n",
        "original_grey =skvideo.io.vread(\"/content/mark_rolling_on_chair.mp4\", as_grey = True)\n",
        "ours_grey     =skvideo.io.vread(\"/content/mark_out5.mp4\", as_grey = True)\n",
        "naive_grey    =skvideo.io.vread(\"/content/mark_out5downsample.mp4\", as_grey = True)\n",
        "random_grey   =skvideo.io.vread(\"/content/mark_out5random.mp4\", as_grey = True)"
      ],
      "metadata": {
        "id": "9WIamwP--hua"
      },
      "execution_count": null,
      "outputs": []
    },
    {
      "cell_type": "code",
      "source": [
        "toCompare = [ours, naive, random]\n",
        "toCompare_grey = [ours_grey, naive_grey, random_grey]\n",
        "for video in toCompare:\n",
        "  mse = (np.square(original - video)).mean()\n",
        "  print(\"MSE: \", mse)\n",
        "\n",
        "for video in toCompare_grey:\n",
        "  psnr = skvideo.measure.psnr(original_grey, video)\n",
        "  print(\"PSNR mean: \", psnr.mean())\n",
        "\n",
        "for video in toCompare_grey:\n",
        "  ssim = skvideo.measure.ssim(original_grey, video)\n",
        "  print(ssim.mean())\n",
        "\n",
        "for video in toCompare_grey:\n",
        "  strred, final_after, final_before = skvideo.measure.strred(original_grey, video)\n",
        "  print(\"ST-RRED: \", final_after, \"ST-RRED SSN: \", final_before)"
      ],
      "metadata": {
        "colab": {
          "base_uri": "https://localhost:8080/"
        },
        "id": "RzglGYbnA3qg",
        "outputId": "482e58fb-c167-43c6-d93b-64caf7ba345b"
      },
      "execution_count": null,
      "outputs": [
        {
          "output_type": "stream",
          "name": "stdout",
          "text": [
            "66.25909085602545\n"
          ]
        }
      ]
    }
  ]
}